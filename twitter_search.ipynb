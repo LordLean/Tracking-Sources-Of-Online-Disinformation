{
  "nbformat": 4,
  "nbformat_minor": 0,
  "metadata": {
    "colab": {
      "name": "twitter_search.ipynb",
      "provenance": [],
      "collapsed_sections": [
        "JYuwd7BwLiu_"
      ],
      "authorship_tag": "ABX9TyM1iE98TBjiBn0XOAlPP1xk",
      "include_colab_link": true
    },
    "kernelspec": {
      "name": "python3",
      "display_name": "Python 3"
    }
  },
  "cells": [
    {
      "cell_type": "markdown",
      "metadata": {
        "id": "view-in-github",
        "colab_type": "text"
      },
      "source": [
        "<a href=\"https://colab.research.google.com/github/LordLean/Tracking-Sources-Of-Online-Disinformation/blob/main/twitter_search.ipynb\" target=\"_parent\"><img src=\"https://colab.research.google.com/assets/colab-badge.svg\" alt=\"Open In Colab\"/></a>"
      ]
    },
    {
      "cell_type": "markdown",
      "metadata": {
        "id": "1rfK4dXgLn8G"
      },
      "source": [
        "# Setup"
      ]
    },
    {
      "cell_type": "code",
      "metadata": {
        "id": "qVXU6VE27ui9"
      },
      "source": [
        "import os\n",
        "import tweepy as tw\n",
        "import pandas as pd"
      ],
      "execution_count": 1,
      "outputs": []
    },
    {
      "cell_type": "code",
      "metadata": {
        "id": "pNi28IUK8HGa"
      },
      "source": [
        "consumer_key= 'JxciVDzwxuGOuCaBV9rw1fdg9'\n",
        "consumer_secret= 'PBrBFjXxmw7cSim2OyaNIGVy51AjFnq50gF9VlCv0LQ4caCiAv'\n",
        "access_token= '1317451540471447553-eFRWiyt3100ReKxW3mOrSDUtjy1iFu'\n",
        "access_token_secret= 'DhGgoYwPzFYRygV3nZOj2GIlKcLIL7sWWhLBvUoz1LDDK'"
      ],
      "execution_count": 2,
      "outputs": []
    },
    {
      "cell_type": "code",
      "metadata": {
        "id": "x7-SZZT-8dvP"
      },
      "source": [
        "auth = tw.OAuthHandler(consumer_key, consumer_secret)\n",
        "auth.set_access_token(access_token, access_token_secret)\n",
        "api = tw.API(auth, wait_on_rate_limit=True)"
      ],
      "execution_count": 3,
      "outputs": []
    },
    {
      "cell_type": "markdown",
      "metadata": {
        "id": "zmB6krfsLso0"
      },
      "source": [
        "# Start"
      ]
    },
    {
      "cell_type": "code",
      "metadata": {
        "id": "1cb0Kk-Mpu_u"
      },
      "source": [
        "def extract_coordinates(row):\n",
        "  '''\n",
        "  Extracts coordinates from tweet if not null.\n",
        "  '''\n",
        "  if row['Tweet Coordinates']:\n",
        "      return row['Tweet Coordinates']['coordinates']\n",
        "  else:\n",
        "      return None\n",
        "\n",
        "\n",
        "# Function created to extract place such as city, state or country from tweet if it has place info\n",
        "# Tweets tend to have null so important to run check\n",
        "# Make sure to run this cell as it is used in a lot of different functions below\n",
        "def extract_place(row):\n",
        "  '''\n",
        "  Extracts place from tweet if not null, in the form of state, city, country.\n",
        "  '''\n",
        "  if row['Place Info']:\n",
        "      return row['Place Info'].full_name\n",
        "  else:\n",
        "      return None\n",
        "\n",
        "\n",
        "def get_untruncated_tweet(id):\n",
        "  '''\n",
        "  Look up function which returns the untruncated tweet if not a retweet. \n",
        "  '''\n",
        "  status = api.get_status(id, tweet_mode=\"extended\")\n",
        "  try:\n",
        "      return status.retweeted_status.full_text\n",
        "  except AttributeError:  # Not a Retweet\n",
        "      return status.full_text"
      ],
      "execution_count": 4,
      "outputs": []
    },
    {
      "cell_type": "code",
      "metadata": {
        "id": "MW-TriaR8iK-"
      },
      "source": [
        "query = \"Biden letter trump\"\n",
        "\n",
        "# Cursor arguments.\n",
        "cursor_args = {\n",
        "    \"query\" : query,\n",
        "    \"username\" : \"\",\n",
        "    \"lang\" : \"en\",\n",
        "    \"coordinates\" : \"40.7128, 74.0060, 100mi\",\n",
        "    \"date_since\" : \"2020-11-16\", # YYYY-MM-DD\n",
        "    \"max_tweets\" : 1000\n",
        "}"
      ],
      "execution_count": 74,
      "outputs": []
    },
    {
      "cell_type": "code",
      "metadata": {
        "id": "16xTLImPgC6m"
      },
      "source": [
        "if cursor_args[\"username\"]:\n",
        "  # User Timeline\n",
        "  tweets = tw.Cursor(api.user_timeline,\n",
        "                    id = cursor_args[\"username\"], \n",
        "                    tweet_mode = \"extended\"\n",
        "                    ).items(cursor_args[\"max_tweets\"])\n",
        "else:\n",
        "  # API Search - https://docs.tweepy.org/en/latest/api.html - ctrl+f \"Search Methods\"\n",
        "  tweets = tw.Cursor(api.search,\n",
        "                    q = cursor_args[\"query\"],\n",
        "                    # geocode = cursor_args[\"coordinates\"],\n",
        "                    result_type = \"mixed\", # mixed, recent, popular\n",
        "                    lang = cursor_args[\"lang\"],\n",
        "                    include_entities = True,\n",
        "                    tweet_mode = \"extended\"\n",
        "                    ).items(cursor_args[\"max_tweets\"])\n",
        "\n",
        "\n",
        "# Pull info from tweets iterable.\n",
        "final_list = []\n",
        "for tweet in tweets:\n",
        "  if hasattr(tweet, \"retweeted_status\") and tweet.entities[\"urls\"]:\n",
        "    tweet_info = [tweet.full_text, str(tweet.entities[\"urls\"][0]), tweet.created_at, tweet.id_str, tweet.user.screen_name, tweet.user.location, tweet.lang, tweet.source, tweet.retweeted_status.created_at, tweet.retweeted_status.id_str, tweet.retweeted_status.user.screen_name, tweet.retweeted_status.user.location, tweet.retweeted_status.lang, tweet.retweeted_status.source]\n",
        "    final_list.append(tweet_info)\n",
        "  elif hasattr(tweet, \"retweeted_status\") and not tweet.entities[\"urls\"]:\n",
        "    tweet_info = [tweet.full_text, None, tweet.created_at, tweet.id_str, tweet.user.screen_name, tweet.user.location, tweet.lang, tweet.source, tweet.retweeted_status.created_at, tweet.retweeted_status.id_str, tweet.retweeted_status.user.screen_name, tweet.retweeted_status.user.location, tweet.retweeted_status.lang, tweet.retweeted_status.source]\n",
        "    final_list.append(tweet_info)\n",
        "  elif not hasattr(tweet, \"retweeted_status\") and tweet.entities[\"urls\"]:\n",
        "    tweet_info = [tweet.full_text, str(tweet.entities[\"urls\"][0]), tweet.created_at, tweet.id_str, tweet.user.screen_name, tweet.user.location, tweet.lang, tweet.source, None, None, None, None, None, None]\n",
        "    final_list.append(tweet_info)\n",
        "\n",
        "\n",
        "# Create dataframe for specified above information.\n",
        "df = pd.DataFrame(final_list,columns=[\"RT Full Text\", \"Tweet Links\", \"RT Datetime\", \"RT Id\", \"RT User Handle\", \"RT User Location\", \"RT User Language\", \"RT User Source\", \"Orig Datetime\", \"Orig Tweet Id\", \"Orig User Handle\", \"Orig User Location\", \"Orig User Language\", \"Orig User Source\"])"
      ],
      "execution_count": 75,
      "outputs": []
    },
    {
      "cell_type": "code",
      "metadata": {
        "colab": {
          "base_uri": "https://localhost:8080/",
          "height": 751
        },
        "id": "n9tFgAtCGSrp",
        "outputId": "d451af3f-5c2a-4d82-9b7e-230abd2e3319"
      },
      "source": [
        "df"
      ],
      "execution_count": 76,
      "outputs": [
        {
          "output_type": "execute_result",
          "data": {
            "text/html": [
              "<div>\n",
              "<style scoped>\n",
              "    .dataframe tbody tr th:only-of-type {\n",
              "        vertical-align: middle;\n",
              "    }\n",
              "\n",
              "    .dataframe tbody tr th {\n",
              "        vertical-align: top;\n",
              "    }\n",
              "\n",
              "    .dataframe thead th {\n",
              "        text-align: right;\n",
              "    }\n",
              "</style>\n",
              "<table border=\"1\" class=\"dataframe\">\n",
              "  <thead>\n",
              "    <tr style=\"text-align: right;\">\n",
              "      <th></th>\n",
              "      <th>RT Full Text</th>\n",
              "      <th>Tweet Links</th>\n",
              "      <th>RT Datetime</th>\n",
              "      <th>RT Id</th>\n",
              "      <th>RT User Handle</th>\n",
              "      <th>RT User Location</th>\n",
              "      <th>RT User Language</th>\n",
              "      <th>RT User Source</th>\n",
              "      <th>Orig Datetime</th>\n",
              "      <th>Orig Tweet Id</th>\n",
              "      <th>Orig User Handle</th>\n",
              "      <th>Orig User Location</th>\n",
              "      <th>Orig User Language</th>\n",
              "      <th>Orig User Source</th>\n",
              "    </tr>\n",
              "  </thead>\n",
              "  <tbody>\n",
              "    <tr>\n",
              "      <th>0</th>\n",
              "      <td>Another GOP letter to Biden asking him to “fol...</td>\n",
              "      <td>{'url': 'https://t.co/jc7N6f665z', 'expanded_u...</td>\n",
              "      <td>2021-01-29 21:00:53</td>\n",
              "      <td>1355259643338121218</td>\n",
              "      <td>igorbobic</td>\n",
              "      <td>Washington, D.C.</td>\n",
              "      <td>en</td>\n",
              "      <td>Twitter for iPhone</td>\n",
              "      <td>NaT</td>\n",
              "      <td>None</td>\n",
              "      <td>None</td>\n",
              "      <td>None</td>\n",
              "      <td>None</td>\n",
              "      <td>None</td>\n",
              "    </tr>\n",
              "    <tr>\n",
              "      <th>1</th>\n",
              "      <td>RT @ARTHURGCARTER1: White House says Biden won...</td>\n",
              "      <td>None</td>\n",
              "      <td>2021-01-31 13:04:41</td>\n",
              "      <td>1355864579453177861</td>\n",
              "      <td>polytwonk</td>\n",
              "      <td>Englandshire</td>\n",
              "      <td>en</td>\n",
              "      <td>PolyTwonkBot</td>\n",
              "      <td>2021-01-31 12:58:43</td>\n",
              "      <td>1355863079834234883</td>\n",
              "      <td>ARTHURGCARTER1</td>\n",
              "      <td>INDIVIDUAL MERIT FIRST &amp; LAST</td>\n",
              "      <td>en</td>\n",
              "      <td>Twitter Web App</td>\n",
              "    </tr>\n",
              "    <tr>\n",
              "      <th>2</th>\n",
              "      <td>White House says Biden won’t release ‘gracious...</td>\n",
              "      <td>{'url': 'https://t.co/OeHmshw9X6', 'expanded_u...</td>\n",
              "      <td>2021-01-31 12:58:43</td>\n",
              "      <td>1355863079834234883</td>\n",
              "      <td>ARTHURGCARTER1</td>\n",
              "      <td>INDIVIDUAL MERIT FIRST &amp; LAST</td>\n",
              "      <td>en</td>\n",
              "      <td>Twitter Web App</td>\n",
              "      <td>NaT</td>\n",
              "      <td>None</td>\n",
              "      <td>None</td>\n",
              "      <td>None</td>\n",
              "      <td>None</td>\n",
              "      <td>None</td>\n",
              "    </tr>\n",
              "    <tr>\n",
              "      <th>3</th>\n",
              "      <td>RT @therecount: @kaitlancollins Biden: \"The pr...</td>\n",
              "      <td>None</td>\n",
              "      <td>2021-01-31 12:36:22</td>\n",
              "      <td>1355857454949666817</td>\n",
              "      <td>omarmuniz9</td>\n",
              "      <td></td>\n",
              "      <td>en</td>\n",
              "      <td>Twitter for iPhone</td>\n",
              "      <td>2021-01-20 22:30:39</td>\n",
              "      <td>1352020742993563649</td>\n",
              "      <td>therecount</td>\n",
              "      <td>New York, NY</td>\n",
              "      <td>en</td>\n",
              "      <td>Twitter Web App</td>\n",
              "    </tr>\n",
              "    <tr>\n",
              "      <th>4</th>\n",
              "      <td>RT @onumazih: BIDEN: \"PRESIDENT TRUMP LEFT FOR...</td>\n",
              "      <td>None</td>\n",
              "      <td>2021-01-31 12:14:52</td>\n",
              "      <td>1355852043659915271</td>\n",
              "      <td>ngwumohike</td>\n",
              "      <td></td>\n",
              "      <td>en</td>\n",
              "      <td>Twitter for Android</td>\n",
              "      <td>2021-01-31 10:44:06</td>\n",
              "      <td>1355829203590127621</td>\n",
              "      <td>onumazih</td>\n",
              "      <td>IN THE UNIVERSE</td>\n",
              "      <td>en</td>\n",
              "      <td>Twitter for Android</td>\n",
              "    </tr>\n",
              "    <tr>\n",
              "      <th>...</th>\n",
              "      <td>...</td>\n",
              "      <td>...</td>\n",
              "      <td>...</td>\n",
              "      <td>...</td>\n",
              "      <td>...</td>\n",
              "      <td>...</td>\n",
              "      <td>...</td>\n",
              "      <td>...</td>\n",
              "      <td>...</td>\n",
              "      <td>...</td>\n",
              "      <td>...</td>\n",
              "      <td>...</td>\n",
              "      <td>...</td>\n",
              "      <td>...</td>\n",
              "    </tr>\n",
              "    <tr>\n",
              "      <th>87</th>\n",
              "      <td>Letter to editor: George McCaleb Wilkinson say...</td>\n",
              "      <td>{'url': 'https://t.co/5hTfCIWv8f', 'expanded_u...</td>\n",
              "      <td>2021-01-29 14:30:07</td>\n",
              "      <td>1355161305196490756</td>\n",
              "      <td>TimKalich</td>\n",
              "      <td>Greenwood, Mississippi</td>\n",
              "      <td>en</td>\n",
              "      <td>BLOX CMS</td>\n",
              "      <td>NaT</td>\n",
              "      <td>None</td>\n",
              "      <td>None</td>\n",
              "      <td>None</td>\n",
              "      <td>None</td>\n",
              "      <td>None</td>\n",
              "    </tr>\n",
              "    <tr>\n",
              "      <th>88</th>\n",
              "      <td>Letter to editor: George McCaleb Wilkinson say...</td>\n",
              "      <td>{'url': 'https://t.co/QEje5NKPx5', 'expanded_u...</td>\n",
              "      <td>2021-01-29 14:30:07</td>\n",
              "      <td>1355161303875256321</td>\n",
              "      <td>gwcommonwealth</td>\n",
              "      <td>Greenwood, Mississippi</td>\n",
              "      <td>en</td>\n",
              "      <td>BLOX CMS</td>\n",
              "      <td>NaT</td>\n",
              "      <td>None</td>\n",
              "      <td>None</td>\n",
              "      <td>None</td>\n",
              "      <td>None</td>\n",
              "      <td>None</td>\n",
              "    </tr>\n",
              "    <tr>\n",
              "      <th>89</th>\n",
              "      <td>RT @NewYorker: Donald Trump—and the thorough T...</td>\n",
              "      <td>None</td>\n",
              "      <td>2021-01-29 13:45:42</td>\n",
              "      <td>1355150127686508545</td>\n",
              "      <td>michaellamperd</td>\n",
              "      <td>Minnesota, USA</td>\n",
              "      <td>en</td>\n",
              "      <td>Twitter Web App</td>\n",
              "      <td>2021-01-29 11:47:38</td>\n",
              "      <td>1355120414008074246</td>\n",
              "      <td>NewYorker</td>\n",
              "      <td>New York, NY</td>\n",
              "      <td>en</td>\n",
              "      <td>SocialFlow</td>\n",
              "    </tr>\n",
              "    <tr>\n",
              "      <th>90</th>\n",
              "      <td>RT @RohdeD: Reflections on a post-Trump week o...</td>\n",
              "      <td>None</td>\n",
              "      <td>2021-01-29 13:45:30</td>\n",
              "      <td>1355150076620886032</td>\n",
              "      <td>rjsplb85</td>\n",
              "      <td>West Summerlin, Las Vegas</td>\n",
              "      <td>en</td>\n",
              "      <td>Twitter for iPhone</td>\n",
              "      <td>2021-01-28 23:10:16</td>\n",
              "      <td>1354929817641226247</td>\n",
              "      <td>RohdeD</td>\n",
              "      <td></td>\n",
              "      <td>en</td>\n",
              "      <td>Twitter Web App</td>\n",
              "    </tr>\n",
              "    <tr>\n",
              "      <th>91</th>\n",
              "      <td>RT @NicholsUprising: It is absolutely absurd t...</td>\n",
              "      <td>None</td>\n",
              "      <td>2021-01-29 13:42:57</td>\n",
              "      <td>1355149433634172937</td>\n",
              "      <td>aquariusdreamer</td>\n",
              "      <td>Iowa, USA</td>\n",
              "      <td>en</td>\n",
              "      <td>Twitter for iPhone</td>\n",
              "      <td>2021-01-23 14:19:29</td>\n",
              "      <td>1352984300799586304</td>\n",
              "      <td>NicholsUprising</td>\n",
              "      <td>Wisconsin, USA</td>\n",
              "      <td>en</td>\n",
              "      <td>Twitter for iPhone</td>\n",
              "    </tr>\n",
              "  </tbody>\n",
              "</table>\n",
              "<p>92 rows × 14 columns</p>\n",
              "</div>"
            ],
            "text/plain": [
              "                                         RT Full Text  ...     Orig User Source\n",
              "0   Another GOP letter to Biden asking him to “fol...  ...                 None\n",
              "1   RT @ARTHURGCARTER1: White House says Biden won...  ...      Twitter Web App\n",
              "2   White House says Biden won’t release ‘gracious...  ...                 None\n",
              "3   RT @therecount: @kaitlancollins Biden: \"The pr...  ...      Twitter Web App\n",
              "4   RT @onumazih: BIDEN: \"PRESIDENT TRUMP LEFT FOR...  ...  Twitter for Android\n",
              "..                                                ...  ...                  ...\n",
              "87  Letter to editor: George McCaleb Wilkinson say...  ...                 None\n",
              "88  Letter to editor: George McCaleb Wilkinson say...  ...                 None\n",
              "89  RT @NewYorker: Donald Trump—and the thorough T...  ...           SocialFlow\n",
              "90  RT @RohdeD: Reflections on a post-Trump week o...  ...      Twitter Web App\n",
              "91  RT @NicholsUprising: It is absolutely absurd t...  ...   Twitter for iPhone\n",
              "\n",
              "[92 rows x 14 columns]"
            ]
          },
          "metadata": {
            "tags": []
          },
          "execution_count": 76
        }
      ]
    },
    {
      "cell_type": "code",
      "metadata": {
        "colab": {
          "base_uri": "https://localhost:8080/"
        },
        "id": "isFSJ2ifoaMZ",
        "outputId": "2adb78b6-b5ef-40cb-fc90-5e13ae0469b3"
      },
      "source": [
        "df[\"Orig User Handle\"].value_counts()"
      ],
      "execution_count": 80,
      "outputs": [
        {
          "output_type": "execute_result",
          "data": {
            "text/plain": [
              "peterbakernyt      25\n",
              "ABCPolitics        11\n",
              "_Ikedinachi         4\n",
              "NicholsUprising     3\n",
              "NewYorker           2\n",
              "DailyMail           2\n",
              "candies2639         2\n",
              "ThisWeekABC         2\n",
              "fidh_en             2\n",
              "RepMikeQuigley      1\n",
              "RepMaloney          1\n",
              "RepBarragan         1\n",
              "cmsub               1\n",
              "greenfield64        1\n",
              "MostafaMe4          1\n",
              "CourierNewsroom     1\n",
              "RohdeD              1\n",
              "collinlaverty11     1\n",
              "ARTHURGCARTER1      1\n",
              "IndyUSA             1\n",
              "DJJudd              1\n",
              "patkiernan          1\n",
              "onumazih            1\n",
              "therecount          1\n",
              "Name: Orig User Handle, dtype: int64"
            ]
          },
          "metadata": {
            "tags": []
          },
          "execution_count": 80
        }
      ]
    },
    {
      "cell_type": "code",
      "metadata": {
        "colab": {
          "base_uri": "https://localhost:8080/"
        },
        "id": "fsA3C-_UuKzn",
        "outputId": "09c5cc8e-910d-4602-bc96-6a770c0c141e"
      },
      "source": [
        "print(df.at[0,\"RT Full Text\"])\n",
        "id = df.at[0, \"RT Id\"]\n",
        "print(get_untruncated_tweet(id))"
      ],
      "execution_count": 9,
      "outputs": [
        {
          "output_type": "stream",
          "text": [
            "RT @goyalsanjeev: The #FakeNews industry is unstoppable ... One can't even imagine where this industry attack and when😎\n",
            "\n",
            "Instead of focusin…\n",
            "The #FakeNews industry is unstoppable ... One can't even imagine where this industry attack and when😎\n",
            "\n",
            "Instead of focusing their time fully on investigations, agencies have to spend time exposing fake-news also.\n",
            "\n",
            "Reason&gt;ZERO FEAR of @narendramodi!\n",
            "@PrakashJavdekar @dir_ed https://t.co/dNMklMpfne\n"
          ],
          "name": "stdout"
        }
      ]
    },
    {
      "cell_type": "markdown",
      "metadata": {
        "id": "JYuwd7BwLiu_"
      },
      "source": [
        "# Redundant"
      ]
    },
    {
      "cell_type": "code",
      "metadata": {
        "id": "WdamfjQN8mUN"
      },
      "source": [
        "# # Collect tweets\n",
        "# tweets = tw.Cursor(api.search,\n",
        "#                        q=search_words,\n",
        "#                        lang=\"en\"\n",
        "#                        ).items(10000)\n",
        "\n",
        "# # Collect a list of tweets\n",
        "# all_tweets = [tweet.user for tweet in tweets]"
      ],
      "execution_count": null,
      "outputs": []
    },
    {
      "cell_type": "code",
      "metadata": {
        "id": "ZuBOTBSLTigK"
      },
      "source": [
        "# from geopy.geocoders import Nominatim\n",
        "# import gmplot\n",
        "\n",
        "# geolocator = Nominatim()\n",
        "\n",
        "# coordinates = {'latitude': [], 'longitude': []}\n",
        "# for count, user_loc in enumerate(tweets.location):\n",
        "#     try:\n",
        "#         location = geolocator.geocode(user_loc)\n",
        "        \n",
        "#         # If coordinates are found for location\n",
        "#         if location:\n",
        "#             coordinates['latitude'].append(location.latitude)\n",
        "#             coordinates['longitude'].append(location.longitude)\n",
        "            \n",
        "#     # If too many connection requests\n",
        "#     except:\n",
        "#         pass"
      ],
      "execution_count": null,
      "outputs": []
    },
    {
      "cell_type": "code",
      "metadata": {
        "id": "DnJW46IR0wWA"
      },
      "source": [
        "# # Old\n",
        "# if cursor_args[\"username\"]:\n",
        "#   # User Timeline\n",
        "#   tweets = tw.Cursor(api.user_timeline,\n",
        "#                     id = cursor_args[\"username\"], \n",
        "#                     tweet_mode = 'extended'\n",
        "#                     ).items(cursor_args[\"max_tweets\"])\n",
        "# else:\n",
        "#   # API Search - https://docs.tweepy.org/en/latest/api.html - ctrl+f \"Search Methods\"\n",
        "#   tweets = tw.Cursor(api.search,\n",
        "#                     q = cursor_args[\"query\"],\n",
        "#                     # geocode = cursor_args[\"coordinates\"],\n",
        "#                     result_type = \"mixed\", # mixed, recent, popular\n",
        "#                     lang = cursor_args[\"lang\"],\n",
        "#                     tweet_mode = 'extended'\n",
        "#                     ).items(cursor_args[\"max_tweets\"])\n",
        "\n",
        "# # tweets2 = deepcopy(tweets)\n",
        "# # for tweet in tweets2:\n",
        "# #   # print(tweet.retweeted_status)\n",
        "# #   pass\n",
        "\n",
        "# # Pulling information from tweets iterable object\n",
        "# # Add or remove tweet information you want in the below list comprehension\n",
        "# tweets_list = [[tweet.full_text, tweet.created_at, tweet.id_str, tweet.user.screen_name, tweet.retweeted_status.user.Name, tweet.user.location, tweet.coordinates, tweet.place, tweet.retweet_count, tweet.favorite_count, tweet.lang, tweet.source, tweet.in_reply_to_status_id_str, tweet.in_reply_to_user_id_str, tweet.is_quote_status] for tweet in tweets if hasattr(tweet,\"retweeted_status\")]\n",
        " \n",
        "# # Creation of dataframe from tweets_list\n",
        "# # Add or remove columns as you remove tweet information\n",
        "# tweets_df = pd.DataFrame(tweets_list,columns=['Tweet Text', 'Tweet Datetime', 'Tweet Id', 'Twitter @ Name', \"Retweeted Tweet\", \"Location\", 'Tweet Coordinates', 'Place Info', 'Retweets', 'Favorites', 'Language', 'Source', 'Replied Tweet Id', 'Replied Tweet User Id Str', 'Quote Status Bool'])\n",
        " \n",
        "# # Checks if there are coordinates attached to tweets, if so extracts them\n",
        "# tweets_df['Tweet Coordinates'] = tweets_df.apply(extract_coordinates,axis=1)\n",
        " \n",
        "# # Checks if there is place information available, if so extracts them\n",
        "# tweets_df['Place Info'] = tweets_df.apply(extract_place,axis=1)"
      ],
      "execution_count": null,
      "outputs": []
    },
    {
      "cell_type": "code",
      "metadata": {
        "id": "PXulQgBZmOau"
      },
      "source": [
        "# if cursor_args[\"username\"]:\n",
        "#   # User Timeline\n",
        "#   tweets = tw.Cursor(api.user_timeline,\n",
        "#                     id = cursor_args[\"username\"], \n",
        "#                     tweet_mode = \"extended\"\n",
        "#                     ).items(cursor_args[\"max_tweets\"])\n",
        "# else:\n",
        "#   # API Search - https://docs.tweepy.org/en/latest/api.html - ctrl+f \"Search Methods\"\n",
        "#   tweets = tw.Cursor(api.search,\n",
        "#                     q = cursor_args[\"query\"],\n",
        "#                     # geocode = cursor_args[\"coordinates\"],\n",
        "#                     result_type = \"mixed\", # mixed, recent, popular\n",
        "#                     lang = cursor_args[\"lang\"],\n",
        "#                     include_entities = True,\n",
        "#                     tweet_mode = \"extended\"\n",
        "#                     ).items(cursor_args[\"max_tweets\"])\n",
        "\n",
        "\n",
        "# # Pull info from tweets iterable.\n",
        "# tweets_list = [[tweet.full_text, tweet.entities[\"urls\"][0], tweet.created_at, tweet.id_str, tweet.user.screen_name, tweet.user.location, tweet.lang, tweet.source, tweet.retweeted_status.user.screen_name, tweet.retweeted_status.created_at, tweet.retweeted_status.id_str, tweet.retweeted_status.user.screen_name, tweet.retweeted_status.user.location, tweet.retweeted_status.lang, tweet.retweeted_status.source] for tweet in tweets if hasattr(tweet,\"retweeted_status\") and tweet.entities[\"urls\"]]\n",
        " \n",
        "# # Create dataframe for specified above information.\n",
        "# df = pd.DataFrame(tweets_list,columns=[\"RT Full Text\", \"Tweet Links\", \"RT Datetime\", \"RT Id\", \"RT User Handle\", \"RT User Location\", \"RT User Language\", \"RT User Source\", \"Orig User Handle\", \"Orig Datetime\", \"Orig Tweet Id\", \"Orig User Handle\", \"Orig User Location\", \"Orig User Language\", \"Orig User Source\"])"
      ],
      "execution_count": null,
      "outputs": []
    },
    {
      "cell_type": "code",
      "metadata": {
        "id": "eDg489GHFt6O"
      },
      "source": [
        "# from google.colab import files\n",
        "# import gmplot\n",
        "# from geopy.geocoders import Nominatim\n",
        "\n",
        "# locations = list(df[\"RT User Location\"].unique())\n",
        "\n",
        "# geolocator = Nominatim(user_agent=\"http\")\n",
        "\n",
        "# # Go through all tweets and add locations to 'coordinates' dictionary\n",
        "# coordinates = {'latitude': [], 'longitude': []}\n",
        "# for count, user_loc in enumerate(locations):\n",
        "#     try:\n",
        "#         location = geolocator.geocode(user_loc)\n",
        "        \n",
        "#         # If coordinates are found for location\n",
        "#         if location:\n",
        "#             coordinates['latitude'].append(location.latitude)\n",
        "#             coordinates['longitude'].append(location.longitude)\n",
        "            \n",
        "#     # If too many connection requests\n",
        "#     except:\n",
        "#         pass\n",
        "    \n",
        "# # Instantiate and center a GoogleMapPlotter object to show our map\n",
        "# gmap = gmplot.GoogleMapPlotter(30, 0, 3)\n",
        "\n",
        "# # Insert points on the map passing a list of latitudes and longitudes\n",
        "# gmap.heatmap(coordinates['latitude'], coordinates['longitude'], radius=20)\n",
        "\n",
        "# # Save the map to html file\n",
        "# gmap.draw(\"python_heatmap.html\")\n",
        "\n",
        "# # Download html\n",
        "# files.download(\"python_heatmap.html\")"
      ],
      "execution_count": 10,
      "outputs": []
    }
  ]
}