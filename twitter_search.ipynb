{
  "nbformat": 4,
  "nbformat_minor": 0,
  "metadata": {
    "colab": {
      "name": "twitter_search.ipynb",
      "provenance": [],
      "collapsed_sections": [],
      "authorship_tag": "ABX9TyN6r8Xiz3ujb65zO0iWm0lx",
      "include_colab_link": true
    },
    "kernelspec": {
      "name": "python3",
      "display_name": "Python 3"
    }
  },
  "cells": [
    {
      "cell_type": "markdown",
      "metadata": {
        "id": "view-in-github",
        "colab_type": "text"
      },
      "source": [
        "<a href=\"https://colab.research.google.com/github/LordLean/Tracking-Sources-Of-Online-Disinformation/blob/main/twitter_search.ipynb\" target=\"_parent\"><img src=\"https://colab.research.google.com/assets/colab-badge.svg\" alt=\"Open In Colab\"/></a>"
      ]
    },
    {
      "cell_type": "code",
      "metadata": {
        "id": "qVXU6VE27ui9"
      },
      "source": [
        "import os\n",
        "import tweepy as tw\n",
        "import pandas as pd"
      ],
      "execution_count": 1,
      "outputs": []
    },
    {
      "cell_type": "code",
      "metadata": {
        "id": "pNi28IUK8HGa"
      },
      "source": [
        "consumer_key= 'YgYPLTWSJtexC3VmMjsleDC6v'\n",
        "consumer_secret= 'FfRodDZdTVDCTgXqZZ7kk7Vb20HWYNEAuq2dKtA4BlaToWrlB8'\n",
        "access_token= '1317451540471447553-qqtVFh59xxjerW6mTjhrmue5LdSVAb'\n",
        "access_token_secret= 'SKYvUevuYjQOf9yhdZvNOTJvxPFodDg7vWSlLNzn6AN26'"
      ],
      "execution_count": 2,
      "outputs": []
    },
    {
      "cell_type": "code",
      "metadata": {
        "id": "x7-SZZT-8dvP"
      },
      "source": [
        "auth = tw.OAuthHandler(consumer_key, consumer_secret)\n",
        "auth.set_access_token(access_token, access_token_secret)\n",
        "api = tw.API(auth, wait_on_rate_limit=True)"
      ],
      "execution_count": 3,
      "outputs": []
    },
    {
      "cell_type": "code",
      "metadata": {
        "id": "1cb0Kk-Mpu_u"
      },
      "source": [
        "# Function created to extract coordinates from tweet if it has coordinate info\n",
        "# Tweets tend to have null so important to run check\n",
        "# Make sure to run this cell as it is used in a lot of different functions below\n",
        "def extract_coordinates(row):\n",
        "    if row['Tweet Coordinates']:\n",
        "        return row['Tweet Coordinates']['coordinates']\n",
        "    else:\n",
        "        return None\n",
        "\n",
        "        \n",
        "# Function created to extract place such as city, state or country from tweet if it has place info\n",
        "# Tweets tend to have null so important to run check\n",
        "# Make sure to run this cell as it is used in a lot of different functions below\n",
        "def extract_place(row):\n",
        "    if row['Place Info']:\n",
        "        return row['Place Info'].full_name\n",
        "    else:\n",
        "        return None\n",
        "\n",
        "\n",
        "def get_untruncated_tweet(id):\n",
        "  status = api.get_status(id, tweet_mode=\"extended\")\n",
        "  try:\n",
        "      return status.retweeted_status.full_text\n",
        "  except AttributeError:  # Not a Retweet\n",
        "      return status.full_text"
      ],
      "execution_count": 45,
      "outputs": []
    },
    {
      "cell_type": "code",
      "metadata": {
        "id": "MW-TriaR8iK-"
      },
      "source": [
        "search_words = \"#disinformation -filter:retweets\"\n",
        "# date_since = \"2018-11-16\"\n",
        "username = \"frasepr\"\n",
        "max_tweets = 150"
      ],
      "execution_count": null,
      "outputs": []
    },
    {
      "cell_type": "code",
      "metadata": {
        "id": "ZGeznWf4pv1l"
      },
      "source": [
        "# User Timeline\n",
        "# tweets = tw.Cursor(api.user_timeline, id=username, tweet_mode='extended').items(max_tweets)\n",
        "\n",
        "# API Search\n",
        "tweets = tw.Cursor(api.search, q=search_words, \n",
        "                   lang=\"en\",\n",
        "                   tweet_mode='extended'\n",
        "                   ).items(max_tweets)\n",
        " \n",
        "# Pulling information from tweets iterable object\n",
        "# Add or remove tweet information you want in the below list comprehension\n",
        "tweets_list = [[tweet.full_text, tweet.created_at, tweet.id_str, tweet.user.screen_name, tweet.coordinates, tweet.place, tweet.retweet_count, tweet.favorite_count, tweet.lang, tweet.source, tweet.in_reply_to_status_id_str, tweet.in_reply_to_user_id_str, tweet.is_quote_status] for tweet in tweets]\n",
        " \n",
        "# Creation of dataframe from tweets_list\n",
        "# Add or remove columns as you remove tweet information\n",
        "tweets_df = pd.DataFrame(tweets_list,columns=['Tweet Text', 'Tweet Datetime', 'Tweet Id', 'Twitter @ Name', 'Tweet Coordinates', 'Place Info', 'Retweets', 'Favorites', 'Language', 'Source', 'Replied Tweet Id', 'Replied Tweet User Id Str', 'Quote Status Bool'])\n",
        " \n",
        "# Checks if there are coordinates attached to tweets, if so extracts them\n",
        "tweets_df['Tweet Coordinates'] = tweets_df.apply(extract_coordinates,axis=1)\n",
        " \n",
        "# Checks if there is place information available, if so extracts them\n",
        "tweets_df['Place Info'] = tweets_df.apply(extract_place,axis=1)"
      ],
      "execution_count": 52,
      "outputs": []
    },
    {
      "cell_type": "code",
      "metadata": {
        "colab": {
          "base_uri": "https://localhost:8080/",
          "height": 570
        },
        "id": "fsA3C-_UuKzn",
        "outputId": "73759403-65fb-4acc-955a-50e7fd8d6b83"
      },
      "source": [
        "tweets_df"
      ],
      "execution_count": 53,
      "outputs": [
        {
          "output_type": "execute_result",
          "data": {
            "text/html": [
              "<div>\n",
              "<style scoped>\n",
              "    .dataframe tbody tr th:only-of-type {\n",
              "        vertical-align: middle;\n",
              "    }\n",
              "\n",
              "    .dataframe tbody tr th {\n",
              "        vertical-align: top;\n",
              "    }\n",
              "\n",
              "    .dataframe thead th {\n",
              "        text-align: right;\n",
              "    }\n",
              "</style>\n",
              "<table border=\"1\" class=\"dataframe\">\n",
              "  <thead>\n",
              "    <tr style=\"text-align: right;\">\n",
              "      <th></th>\n",
              "      <th>Tweet Text</th>\n",
              "      <th>Tweet Datetime</th>\n",
              "      <th>Tweet Id</th>\n",
              "      <th>Twitter @ Name</th>\n",
              "      <th>Tweet Coordinates</th>\n",
              "      <th>Place Info</th>\n",
              "      <th>Retweets</th>\n",
              "      <th>Favorites</th>\n",
              "      <th>Language</th>\n",
              "      <th>Source</th>\n",
              "      <th>Replied Tweet Id</th>\n",
              "      <th>Replied Tweet User Id Str</th>\n",
              "      <th>Quote Status Bool</th>\n",
              "    </tr>\n",
              "  </thead>\n",
              "  <tbody>\n",
              "    <tr>\n",
              "      <th>0</th>\n",
              "      <td>#Inkl #FarRight groups move to #Messaging apps...</td>\n",
              "      <td>2021-01-22 15:41:07</td>\n",
              "      <td>1352642457796808713</td>\n",
              "      <td>Rogeliketweety</td>\n",
              "      <td>None</td>\n",
              "      <td>None</td>\n",
              "      <td>0</td>\n",
              "      <td>0</td>\n",
              "      <td>en</td>\n",
              "      <td>Twitter for Android</td>\n",
              "      <td>None</td>\n",
              "      <td>None</td>\n",
              "      <td>False</td>\n",
              "    </tr>\n",
              "    <tr>\n",
              "      <th>1</th>\n",
              "      <td>Learn how we can serve your needs in the field...</td>\n",
              "      <td>2021-01-22 15:39:15</td>\n",
              "      <td>1352641987472744448</td>\n",
              "      <td>ScienceOfPCVE</td>\n",
              "      <td>None</td>\n",
              "      <td>None</td>\n",
              "      <td>1</td>\n",
              "      <td>0</td>\n",
              "      <td>en</td>\n",
              "      <td>Twitter Web App</td>\n",
              "      <td>None</td>\n",
              "      <td>None</td>\n",
              "      <td>False</td>\n",
              "    </tr>\n",
              "    <tr>\n",
              "      <th>2</th>\n",
              "      <td>@laurenboebert You are spreading #disinformati...</td>\n",
              "      <td>2021-01-22 15:35:17</td>\n",
              "      <td>1352640988607508481</td>\n",
              "      <td>SudoTruth</td>\n",
              "      <td>None</td>\n",
              "      <td>None</td>\n",
              "      <td>0</td>\n",
              "      <td>0</td>\n",
              "      <td>en</td>\n",
              "      <td>Twitter Web App</td>\n",
              "      <td>1352599661266268160</td>\n",
              "      <td>1201670995435646976</td>\n",
              "      <td>False</td>\n",
              "    </tr>\n",
              "    <tr>\n",
              "      <th>3</th>\n",
              "      <td>@digiphile @KABGreek Hey thanks @digiphile. \\n...</td>\n",
              "      <td>2021-01-22 15:25:59</td>\n",
              "      <td>1352638648756432898</td>\n",
              "      <td>GrahamBrookie</td>\n",
              "      <td>None</td>\n",
              "      <td>None</td>\n",
              "      <td>0</td>\n",
              "      <td>3</td>\n",
              "      <td>en</td>\n",
              "      <td>Twitter Web App</td>\n",
              "      <td>1352635727398522882</td>\n",
              "      <td>1175221</td>\n",
              "      <td>False</td>\n",
              "    </tr>\n",
              "    <tr>\n",
              "      <th>4</th>\n",
              "      <td>Media Literacy Standards to Counter Truth Deca...</td>\n",
              "      <td>2021-01-22 15:07:36</td>\n",
              "      <td>1352634024720805888</td>\n",
              "      <td>Chahali</td>\n",
              "      <td>None</td>\n",
              "      <td>None</td>\n",
              "      <td>0</td>\n",
              "      <td>1</td>\n",
              "      <td>en</td>\n",
              "      <td>IFTTT</td>\n",
              "      <td>None</td>\n",
              "      <td>None</td>\n",
              "      <td>False</td>\n",
              "    </tr>\n",
              "    <tr>\n",
              "      <th>...</th>\n",
              "      <td>...</td>\n",
              "      <td>...</td>\n",
              "      <td>...</td>\n",
              "      <td>...</td>\n",
              "      <td>...</td>\n",
              "      <td>...</td>\n",
              "      <td>...</td>\n",
              "      <td>...</td>\n",
              "      <td>...</td>\n",
              "      <td>...</td>\n",
              "      <td>...</td>\n",
              "      <td>...</td>\n",
              "      <td>...</td>\n",
              "    </tr>\n",
              "    <tr>\n",
              "      <th>145</th>\n",
              "      <td>1. #DataScience + #BigData visualization to id...</td>\n",
              "      <td>2021-01-21 19:22:50</td>\n",
              "      <td>1352335864895045632</td>\n",
              "      <td>UNICRI</td>\n",
              "      <td>None</td>\n",
              "      <td>None</td>\n",
              "      <td>4</td>\n",
              "      <td>3</td>\n",
              "      <td>en</td>\n",
              "      <td>Twitter Web App</td>\n",
              "      <td>1352335859689914369</td>\n",
              "      <td>56975985</td>\n",
              "      <td>False</td>\n",
              "    </tr>\n",
              "    <tr>\n",
              "      <th>146</th>\n",
              "      <td>#Disinformation Holds Western Powers Back fr, ...</td>\n",
              "      <td>2021-01-21 19:01:58</td>\n",
              "      <td>1352330615027359748</td>\n",
              "      <td>VahidMokhtarip1</td>\n",
              "      <td>None</td>\n",
              "      <td>None</td>\n",
              "      <td>0</td>\n",
              "      <td>0</td>\n",
              "      <td>en</td>\n",
              "      <td>Twitter Web App</td>\n",
              "      <td>None</td>\n",
              "      <td>None</td>\n",
              "      <td>False</td>\n",
              "    </tr>\n",
              "    <tr>\n",
              "      <th>147</th>\n",
              "      <td>This #Qanus bullshitter biatch sits in the blo...</td>\n",
              "      <td>2021-01-21 18:59:58</td>\n",
              "      <td>1352330114038693890</td>\n",
              "      <td>JaanaNystrom</td>\n",
              "      <td>None</td>\n",
              "      <td>None</td>\n",
              "      <td>0</td>\n",
              "      <td>0</td>\n",
              "      <td>en</td>\n",
              "      <td>Twitter Web App</td>\n",
              "      <td>None</td>\n",
              "      <td>None</td>\n",
              "      <td>True</td>\n",
              "    </tr>\n",
              "    <tr>\n",
              "      <th>148</th>\n",
              "      <td>@NPR \"said to be\" is amplification of rumor, n...</td>\n",
              "      <td>2021-01-21 18:51:22</td>\n",
              "      <td>1352327948162895875</td>\n",
              "      <td>ShapingYouth</td>\n",
              "      <td>None</td>\n",
              "      <td>None</td>\n",
              "      <td>0</td>\n",
              "      <td>1</td>\n",
              "      <td>en</td>\n",
              "      <td>Twitter Web App</td>\n",
              "      <td>1352283690861211650</td>\n",
              "      <td>5392522</td>\n",
              "      <td>True</td>\n",
              "    </tr>\n",
              "    <tr>\n",
              "      <th>149</th>\n",
              "      <td>#Iran:#Disinformation Persists About the #MEK ...</td>\n",
              "      <td>2021-01-21 18:48:36</td>\n",
              "      <td>1352327252139245568</td>\n",
              "      <td>VahidMokhtarip1</td>\n",
              "      <td>None</td>\n",
              "      <td>None</td>\n",
              "      <td>0</td>\n",
              "      <td>1</td>\n",
              "      <td>en</td>\n",
              "      <td>Twitter Web App</td>\n",
              "      <td>None</td>\n",
              "      <td>None</td>\n",
              "      <td>False</td>\n",
              "    </tr>\n",
              "  </tbody>\n",
              "</table>\n",
              "<p>150 rows × 13 columns</p>\n",
              "</div>"
            ],
            "text/plain": [
              "                                            Tweet Text  ... Quote Status Bool\n",
              "0    #Inkl #FarRight groups move to #Messaging apps...  ...             False\n",
              "1    Learn how we can serve your needs in the field...  ...             False\n",
              "2    @laurenboebert You are spreading #disinformati...  ...             False\n",
              "3    @digiphile @KABGreek Hey thanks @digiphile. \\n...  ...             False\n",
              "4    Media Literacy Standards to Counter Truth Deca...  ...             False\n",
              "..                                                 ...  ...               ...\n",
              "145  1. #DataScience + #BigData visualization to id...  ...             False\n",
              "146  #Disinformation Holds Western Powers Back fr, ...  ...             False\n",
              "147  This #Qanus bullshitter biatch sits in the blo...  ...              True\n",
              "148  @NPR \"said to be\" is amplification of rumor, n...  ...              True\n",
              "149  #Iran:#Disinformation Persists About the #MEK ...  ...             False\n",
              "\n",
              "[150 rows x 13 columns]"
            ]
          },
          "metadata": {
            "tags": []
          },
          "execution_count": 53
        }
      ]
    },
    {
      "cell_type": "code",
      "metadata": {
        "colab": {
          "base_uri": "https://localhost:8080/",
          "height": 52
        },
        "id": "_b2kqNoSp8xh",
        "outputId": "bf2baf45-9793-4714-e06e-9fab6dadb4ca"
      },
      "source": [
        "tweet_index = 0\n",
        "# [:,2] selects Tweet Id df column.\n",
        "id = int(tweets_df.iloc[:,2][tweet_index])\n",
        "get_untruncated_tweet(id)"
      ],
      "execution_count": 54,
      "outputs": [
        {
          "output_type": "execute_result",
          "data": {
            "application/vnd.google.colaboratory.intrinsic+json": {
              "type": "string"
            },
            "text/plain": [
              "'#Inkl #FarRight groups move to #Messaging apps as #Tech companies crack down on extremist #socialmedia - @conversationedu via @inkl https://t.co/PZLYAxG0e5 #AltRight #Disinformation #Misinformation #Politics #Tech #socialmedia #Chat #Guide #HowTo'"
            ]
          },
          "metadata": {
            "tags": []
          },
          "execution_count": 54
        }
      ]
    },
    {
      "cell_type": "code",
      "metadata": {
        "id": "npAW6t6yw3kr"
      },
      "source": [
        "# Redundant "
      ],
      "execution_count": null,
      "outputs": []
    },
    {
      "cell_type": "code",
      "metadata": {
        "id": "WdamfjQN8mUN"
      },
      "source": [
        "# Collect tweets\n",
        "tweets = tw.Cursor(api.search,\n",
        "                       q=search_words,\n",
        "                       lang=\"en\"\n",
        "                       ).items(10000)\n",
        "\n",
        "# Collect a list of tweets\n",
        "all_tweets = [tweet.user for tweet in tweets]"
      ],
      "execution_count": null,
      "outputs": []
    },
    {
      "cell_type": "code",
      "metadata": {
        "id": "ZuBOTBSLTigK"
      },
      "source": [
        "from geopy.geocoders import Nominatim\n",
        "import gmplot\n",
        "\n",
        "geolocator = Nominatim()\n",
        "\n",
        "coordinates = {'latitude': [], 'longitude': []}\n",
        "for count, user_loc in enumerate(tweets.location):\n",
        "    try:\n",
        "        location = geolocator.geocode(user_loc)\n",
        "        \n",
        "        # If coordinates are found for location\n",
        "        if location:\n",
        "            coordinates['latitude'].append(location.latitude)\n",
        "            coordinates['longitude'].append(location.longitude)\n",
        "            \n",
        "    # If too many connection requests\n",
        "    except:\n",
        "        pass"
      ],
      "execution_count": null,
      "outputs": []
    }
  ]
}