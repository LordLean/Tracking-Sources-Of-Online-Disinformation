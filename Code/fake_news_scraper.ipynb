{
  "nbformat": 4,
  "nbformat_minor": 0,
  "metadata": {
    "colab": {
      "name": "fake_news_scraper.ipynb",
      "provenance": [],
      "collapsed_sections": [],
      "authorship_tag": "ABX9TyPDnDFOz23TZVXW1duxVRpD",
      "include_colab_link": true
    },
    "kernelspec": {
      "name": "python3",
      "display_name": "Python 3"
    }
  },
  "cells": [
    {
      "cell_type": "markdown",
      "metadata": {
        "id": "view-in-github",
        "colab_type": "text"
      },
      "source": [
        "<a href=\"https://colab.research.google.com/github/LordLean/Tracking-Sources-Of-Online-Disinformation/blob/main/Code/fake_news_scraper.ipynb\" target=\"_parent\"><img src=\"https://colab.research.google.com/assets/colab-badge.svg\" alt=\"Open In Colab\"/></a>"
      ]
    },
    {
      "cell_type": "code",
      "metadata": {
        "id": "GNPdsbCPlLT9",
        "outputId": "74d434ef-56c3-4448-ebb9-c460d861dc8f",
        "colab": {
          "base_uri": "https://localhost:8080/",
          "height": 50
        }
      },
      "source": [
        "from bs4 import BeautifulSoup\n",
        "import requests\n",
        "import nltk\n",
        "# nltk.download(\"stopwords\")\n",
        "from nltk.corpus import stopwords\n",
        "# nltk.download(\"wordnet\")\n",
        "from nltk.stem.wordnet import WordNetLemmatizer\n",
        "import re"
      ],
      "execution_count": 58,
      "outputs": [
        {
          "output_type": "stream",
          "text": [
            "[nltk_data] Downloading package wordnet to /root/nltk_data...\n",
            "[nltk_data]   Unzipping corpora/wordnet.zip.\n"
          ],
          "name": "stdout"
        }
      ]
    },
    {
      "cell_type": "code",
      "metadata": {
        "id": "ji2ShpUfM9kB"
      },
      "source": [
        "def url_parse(url, parser=\"html.parser\"):\n",
        "  data = requests.get(url)\n",
        "  soup = BeautifulSoup(data.text, parser)\n",
        "  return soup"
      ],
      "execution_count": 59,
      "outputs": []
    },
    {
      "cell_type": "code",
      "metadata": {
        "id": "Se8Ah902yonw",
        "outputId": "fff0bc82-2d75-4641-dbaa-ee961f384192",
        "colab": {
          "base_uri": "https://localhost:8080/",
          "height": 35
        }
      },
      "source": [
        "def sentence_processing(sentence, custom_stopwords=[]):\n",
        "  \n",
        "  # Set stopwords\n",
        "  stop_words = set(stopwords.words(\"english\"))\n",
        "  stop_words = stop_words.union(custom_stopwords)\n",
        "\n",
        "  # Lowercase\n",
        "  sentence = sentence.lower()\n",
        "\n",
        "  # lm = WordNetLemmatizer()\n",
        "  # sentence = [lm.lemmatize(word) for word in sentence if not word in stop_words]\n",
        "  # # sentence = \" \".join(sentence)\n",
        "\n",
        "  return sentence\n",
        "\n",
        "sentence_processing('This is the greatest tv showing of all timings in cared places')"
      ],
      "execution_count": 64,
      "outputs": [
        {
          "output_type": "execute_result",
          "data": {
            "application/vnd.google.colaboratory.intrinsic+json": {
              "type": "string"
            },
            "text/plain": [
              "'this is the greatest tv showing of all timings in cared places'"
            ]
          },
          "metadata": {
            "tags": []
          },
          "execution_count": 64
        }
      ]
    },
    {
      "cell_type": "code",
      "metadata": {
        "id": "3CUYO9NsWvo0"
      },
      "source": [
        "def headline_list_creator(num_of_pages=5):\n",
        "\n",
        "  all_headlines = []\n",
        "\n",
        "  for i in range(1,num_of_pages+1):\n",
        "    url = 'https://www.snopes.com/fact-check/rating/false/page/{}/'.format(i)\n",
        "    soup = url_parse(url, \"lxml\")\n",
        "    \n",
        "    # 12 is items per page of relevant content.   \n",
        "    for article in soup.find_all(\"article\", class_=\"media-wrapper\")[:12]:\n",
        "      headline = article.div.h5.text\n",
        "      all_headlines.append(headline)\n",
        "\n",
        "  return all_headlines"
      ],
      "execution_count": 43,
      "outputs": []
    },
    {
      "cell_type": "code",
      "metadata": {
        "id": "Oyzn3eZSX68E"
      },
      "source": [
        "headlines = headline_list_creator(10)"
      ],
      "execution_count": 44,
      "outputs": []
    },
    {
      "cell_type": "code",
      "metadata": {
        "id": "X7zXBkqmvmR_",
        "outputId": "33ec4aae-c8b2-4514-abea-8a93f40031ca",
        "colab": {
          "base_uri": "https://localhost:8080/",
          "height": 1000
        }
      },
      "source": [
        "headlines"
      ],
      "execution_count": 45,
      "outputs": [
        {
          "output_type": "execute_result",
          "data": {
            "text/plain": [
              "['Is Biden Proposing ‘Biggest’ Tax Increase in US History?',\n",
              " 'Did a Fly Land on Amy Coney Barrett?',\n",
              " 'Are Crab Cake Oreos Real?',\n",
              " 'Did Trump Say He Nominated Amy Coney Barrett Because of Her Looks?',\n",
              " 'Does a Video Show Baby Giraffes Frolicking in a Park?',\n",
              " 'Can Poll Workers Invalidate Ballots by Writing on Them?',\n",
              " 'Did Kamala Harris Call American Churches ‘Propaganda Centers’?',\n",
              " 'Did Trump Tweet ‘My Blood IS the Vaccine’?',\n",
              " 'Did Lincoln Refuse to Fill a Supreme Court Vacancy Before an Election?',\n",
              " 'Did Trump Say Doctors Had ‘Never Seen a Body Kill Coronavirus Like My Body’?',\n",
              " 'Did Biden Call Trump Supporters the ‘Dregs of Society’?',\n",
              " 'No, Kamala Harris Didn’t Tweet, ‘We Need to Focus on Defunding the Police’',\n",
              " 'Does Trump Weigh 322 Pounds?',\n",
              " 'Did Hillary Clinton Donate $700,000 to the Campaign of FBI Director’s Wife?',\n",
              " 'Was Trump Carrying a Concealed Oxygen Concentrator When He Boarded Marine One?',\n",
              " 'Is This ‘Avoiding the Future Plague’ Video a Real PSA From the 1950s?',\n",
              " 'Did Trump Campaign Use COVID Diagnosis to Fundraise $421 Million?',\n",
              " 'Is Amy Coney Barrett a Rhodes Scholar?',\n",
              " 'Did McConnell Refuse To Participate in Debate With Female Moderators?',\n",
              " 'No, Biden Didn’t Wear a ‘Wire’ or ‘Smart’ Contact Lenses During 1st Debate',\n",
              " 'Has Biden Failed to Condemn Antifa?',\n",
              " 'Did ‘Portland Sheriff’ Endorse Trump?',\n",
              " 'Does Joe Biden Support ‘Defunding’ Police?',\n",
              " 'Does This Video Show a Drone Delivering Instant Noodles?',\n",
              " 'Did Jared Kushner Delete Tweets After News Surfaced About Trump’s Taxes?',\n",
              " 'Is Kentucky AG Daniel Cameron Married to Mitch McConnell’s Granddaughter?',\n",
              " 'Did Joe Biden ‘Botch’ the Pledge of Allegiance?',\n",
              " 'Did Dr. Fauci Criticize Trump’s China Travel Restrictions?',\n",
              " 'Is US COVID-19 Case Total Highest Globally Due to ‘Great Testing’?',\n",
              " 'Was Biden Caught Using a Teleprompter During an Interview?',\n",
              " 'Did Trump Say Mexicans Call Him a ‘Peachy Cool Arrow’?',\n",
              " 'Did Kamala Harris Prosecute Journalists Who Exposed Planned Parenthood?',\n",
              " 'Did Trump Win Michigan’s ‘Man of the Year’ Award?',\n",
              " 'Did Fire Caused by Gender Reveal Party Damage More Property Than 2020 Protests?',\n",
              " 'Did Joe Biden Wave to an Empty Field?',\n",
              " 'Did McDonald’s Remove American Flags Nationwide?',\n",
              " 'Did Netflix CEO ‘Kim Martin Morrow’ Get Arrested for Child Pornography?',\n",
              " 'Was CBS ‘Caught’ Passing Off ‘Latinos for Trump’ as Biden Supporters?',\n",
              " 'Do North American Wildfires Stop at National Borders?',\n",
              " 'Is the Age of Consent Being Lowered to 4?',\n",
              " 'Was the Netflix CEO Arrested on Child Pornography Charges?',\n",
              " 'Did Kroger Tell Employees They Can Wear BLM Masks, But Not Flag Masks?',\n",
              " 'Did Dozens of Countries Order COVID-19 Tests in 2018?',\n",
              " 'Is ‘Antifa’ Setting Wildfires in Oregon?',\n",
              " 'Did Biden Tweet ‘Fewer Black People’ in Kenosha Resulted in Less Looting?',\n",
              " 'Did a ‘Trump Train’ Truck Get Stuck Under a Bridge?',\n",
              " 'Is This a Real Backdrop of a Boris Johnson Interview?',\n",
              " 'Did Trump Call US Sen. Duckworth ‘Lieutenant No Legs’?',\n",
              " 'Did the Trump Boat Parade Result in This Sunken Ship Photo?',\n",
              " 'Did Jacob Blake’s Ex-Girlfriend’s Aunt Denounce Him on Twitter?',\n",
              " 'Did an Antifa Flyer Tell ‘Comrades’ To Pose as Trump Supporters and Riot After Election Day?',\n",
              " 'Did Nick Saban Endorse Joe Biden?',\n",
              " 'Did CDC ‘Quietly Update’ COVID-19 Deaths To Say Only 6% Are Legitimate?',\n",
              " 'Did Soros Decide That Harris Should be Biden’s Vice President?',\n",
              " 'Did Sen. Collins Say This About Trump?',\n",
              " 'Did a California DA Say Looting Is ‘Okay’ If Suspects ‘Need’ What They Steal?',\n",
              " 'Are These the Parents of Kyle Rittenhouse?',\n",
              " 'Did Loretta Lynn and Kid Rock Get Married?',\n",
              " 'No, Chadwick Boseman Wasn’t Poisoned',\n",
              " 'No, the White House Rose Garden Doesn’t Spell Out ‘KKK’',\n",
              " 'Does This Video Show Biden Falling Asleep in an Interview?',\n",
              " 'Did Larry Bird Tell NBA Players ‘Shut Up and Play the Damn Game’?',\n",
              " 'Did Pelosi Pass a Bill Allowing Her Husband To Make Millions Selling USPS Property?',\n",
              " 'Was Jacob Blake Charged With Raping a Child?',\n",
              " 'Did Arizona Superintendent Kathy Hoffman Push for Sex Ed in Kindergarten?',\n",
              " 'Did Melania Trump ‘Dig Up’ the Rose Garden at the White House?',\n",
              " 'Is Victoria’s Secret Planting Tracking Devices in Bras?',\n",
              " 'Are Sex Traffickers Tagging Cars as Potential Targets?',\n",
              " 'Does Adding a Stamp to Your Ballot ‘Force’ USPS To Deliver as First-Class?',\n",
              " 'Did Biden Say ‘Christians Violate LGBTQ Rights by Simply Existing’?',\n",
              " 'Did Trump Tweet This About Goodyear?',\n",
              " 'Are These Victims Who Were ‘Beat Up by a BLM Hate Group’?',\n",
              " 'Did Steve Bannon Predict Obama Officials Would End Up in Jail?',\n",
              " 'Is This a Picture of Biden and Harris in a Crowd Without Face Masks?',\n",
              " 'Does AARP Support the Democratic Party?',\n",
              " 'Did Tokyo Set Off Fireworks Meant for 2020 Olympics?',\n",
              " 'Could Kids with COVID-19 Symptoms Be Quarantined Without Parental Consent?',\n",
              " 'Did Putin’s Daughter Die After Taking COVID-19 Vaccine?',\n",
              " 'Are ‘Neck Gaiters’ Worse at COVID-19 Transmission Than Foregoing Masks Altogether?',\n",
              " 'Did Trump Tweet This About Kamala Harris?',\n",
              " 'Did the Annabelle Doll Escape from the Warren Museum?',\n",
              " 'Does Kamala Harris’ Press Secretary Decide What Trump Can Say on Twitter?',\n",
              " 'Does Kamala Harris’ Birth Certificate Identify Her as ‘Caucasian’?',\n",
              " 'Does Joe Biden Own an Island in the Caribbean?',\n",
              " 'Did Kamala Harris Call Joe Biden a Racist?',\n",
              " 'Is COVID-19 a Bacterial Infection Easily Cured with Aspirin?',\n",
              " 'Did a Convicted Child Predator Win an Appeal on Discrimination Grounds?',\n",
              " 'Were Will Smith’s Teeth Knocked Out by Jason Derulo?',\n",
              " 'Did Trump Call USPS ‘Most Corrupt and Anti-American Way of Voting’?',\n",
              " 'Did CNN Publish Contradictory Articles on Hydroxychloroquine?',\n",
              " 'Is This a Photo of Alaska’s ‘Sleeping Lady’ Mountain?',\n",
              " 'Did a Black Teen Request to Be Tried As a White Man?',\n",
              " 'Is This Ghislaine Maxwell’s Unsealed ‘List of Names’?',\n",
              " 'Did ‘The Simpsons’ Predict the Beirut Explosion?',\n",
              " 'Was a CV-19 Vaccine That Tracks Citizens Patented in 2012?',\n",
              " 'Can You Get Legionnaires’ Disease from Face Masks?',\n",
              " 'Was Beirut Explosion Caused By a Missile?',\n",
              " 'Was Trump ‘Campaign Ad’ Banned by YouTube and Facebook?',\n",
              " 'Can Drivers in Canada Be Fined $1,500 If a Passenger Uses a Cellphone?',\n",
              " 'Did Spirit Halloween Say It Would Not Open Stores in 2020?',\n",
              " 'Does This Video Show an Octopus Walking on the Beach?',\n",
              " 'Did Fauci Say in 2005 Virology Journal That Hydroxychloroquine Can Treat SARS?',\n",
              " 'Did the White House Alter Trump Rally Photos To Show More Attendees?',\n",
              " 'Does Video Show Pelosi Drunk and Slurring Speech?',\n",
              " 'Is Moderna Tied to Fauci, Gates, Soros, and Epstein?',\n",
              " 'Did Alexander Vindman ‘Quit’ the Army After Admitting to Falsely Testifying at Impeachment?',\n",
              " 'Is Pedophilia Considered a Disability in Greece?',\n",
              " 'Is FEMA Offering Hazard Pay Due to COVID-19?',\n",
              " 'Was Trump Caught on Hot Mic Insulting His Supporters?',\n",
              " 'Does Farting Negate the Use of Masks to Prevent COVID-19?',\n",
              " 'Did Rutgers University Declare Grammar ‘Racist’?',\n",
              " 'Did USPS Tell Americans to Send Mail-In Ballots 2 Weeks in Advance?',\n",
              " 'Was Tom Hanks Arrested in Australia and Fitted with an Ankle Bracelet?',\n",
              " 'Is Seasonal Flu More Deadly Than COVID-19?',\n",
              " 'Were Diamond and Silk, Ted Nugent Announced as GOP Convention Speakers?',\n",
              " 'Did Target End Its ‘Shop with a Cop’ Program?',\n",
              " 'Does Image Show Police Officer in ‘Trump’s America’?',\n",
              " 'Are Pedophiles Claiming to be ‘Age Fluid’?',\n",
              " 'Did Kroger Receipt Include a Charge for Black Lives Matter?',\n",
              " 'Is SpongeBob’s Home Address on Epstein’s ‘Pedo Island’?']"
            ]
          },
          "metadata": {
            "tags": []
          },
          "execution_count": 45
        }
      ]
    },
    {
      "cell_type": "code",
      "metadata": {
        "id": "OMnO-KX9TrUy",
        "cellView": "both"
      },
      "source": [
        "#@title Redundant \n",
        "\n",
        "# *************************\n",
        "# url = \"https://www.snopes.com/50-hottest-urban-legends/\"\n",
        "# url = 'https://www.snopes.com/fact-check/rating/false/'\n",
        "# url = 'https://www.snopes.com/fact-check/rating/false/page/1/'\n",
        "# soup = url_parse(url, \"lxml\")\n",
        "\n",
        "\n",
        "# *************************\n",
        "# soup.find('article', class_=\"media-wrapper\")\n",
        "# soup.find('article', class_=\"media-wrapper\").div.h5.text\n",
        "# for article in soup.find_all(\"article\", class_=\"media-wrapper\"):\n",
        "#   print(article.div.h5.text)\n",
        "\n",
        "# 12 is hardcoded as only 12 new stories labelled FALSE appear per page. The remainder would be \"most popular\".\n",
        "fake_news_headlines = [article.div.h5.text for article in soup.find_all(\"article\", class_=\"media-wrapper\")[:12]]\n",
        "fake_news_headlines\n",
        "\n",
        "\n",
        "# *************************\n",
        "def headline_list_creator(num_of_pages=5):\n",
        "\n",
        "  all_headlines = []\n",
        "\n",
        "  for i in range(1,num_of_pages+1):\n",
        "    url = 'https://www.snopes.com/fact-check/rating/false/page/{}/'.format(i)\n",
        "    soup = url_parse(url, \"lxml\")\n",
        "    fake_news_headlines = [article.div.h5.text for article in soup.find_all(\"article\", class_=\"media-wrapper\")[:12]]    \n",
        "    all_headlines.append(fake_news_headlines)\n",
        "\n",
        "  return all_headlines\n",
        "\n",
        "\n",
        "def flatten(list):\n",
        "  flattened = [item for sublist in list for item in sublist]\n",
        "  return flattened\n",
        "\n",
        "# *************************"
      ],
      "execution_count": null,
      "outputs": []
    }
  ]
}