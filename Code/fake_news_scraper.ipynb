{
  "nbformat": 4,
  "nbformat_minor": 0,
  "metadata": {
    "colab": {
      "name": "fake_news_scraper.ipynb",
      "provenance": [],
      "collapsed_sections": [],
      "authorship_tag": "ABX9TyOnwHlbVq+T7VwS6RVif6rl",
      "include_colab_link": true
    },
    "kernelspec": {
      "name": "python3",
      "display_name": "Python 3"
    }
  },
  "cells": [
    {
      "cell_type": "markdown",
      "metadata": {
        "id": "view-in-github",
        "colab_type": "text"
      },
      "source": [
        "<a href=\"https://colab.research.google.com/github/LordLean/Tracking-Sources-Of-Online-Disinformation/blob/main/Code/fake_news_scraper.ipynb\" target=\"_parent\"><img src=\"https://colab.research.google.com/assets/colab-badge.svg\" alt=\"Open In Colab\"/></a>"
      ]
    },
    {
      "cell_type": "code",
      "metadata": {
        "id": "iNQKCsRElFkF"
      },
      "source": [
        "# !pip install beautifulsoup4\n",
        "# !pip install lxml"
      ],
      "execution_count": 1,
      "outputs": []
    },
    {
      "cell_type": "code",
      "metadata": {
        "id": "GNPdsbCPlLT9"
      },
      "source": [
        "from bs4 import BeautifulSoup\n",
        "import requests"
      ],
      "execution_count": 2,
      "outputs": []
    },
    {
      "cell_type": "code",
      "metadata": {
        "id": "ji2ShpUfM9kB"
      },
      "source": [
        "def url_parse(url, parser=\"html.parser\"):\n",
        "  data = requests.get(url)\n",
        "  soup = BeautifulSoup(data.text, parser)\n",
        "  return soup"
      ],
      "execution_count": 3,
      "outputs": []
    },
    {
      "cell_type": "code",
      "metadata": {
        "id": "56rKZzWfPzcC"
      },
      "source": [
        "url = \"https://www.snopes.com/50-hottest-urban-legends/\"\n",
        "\n",
        "soup = url_parse(url, \"lxml\")"
      ],
      "execution_count": 4,
      "outputs": []
    },
    {
      "cell_type": "code",
      "metadata": {
        "id": "FR9sMJNYLv4O"
      },
      "source": [
        "# soup.find('article', class_=\"media-wrapper\")\n",
        "# soup.find('article', class_=\"media-wrapper\").div.h5.text\n",
        "# for article in soup.find_all(\"article\", class_=\"media-wrapper\"):\n",
        "#   print(article.div.h5.text)"
      ],
      "execution_count": 5,
      "outputs": []
    },
    {
      "cell_type": "code",
      "metadata": {
        "id": "zYSdTD5hQedo"
      },
      "source": [
        "fake_news_headlines = [article.div.h5.text for article in soup.find_all(\"article\", class_=\"media-wrapper\")]"
      ],
      "execution_count": 6,
      "outputs": []
    },
    {
      "cell_type": "code",
      "metadata": {
        "id": "7ZYZEJ7GROP0",
        "outputId": "dbce99c8-26d5-4bb6-f2b6-8fda0f1c2d39",
        "colab": {
          "base_uri": "https://localhost:8080/",
          "height": 895
        }
      },
      "source": [
        "fake_news_headlines"
      ],
      "execution_count": 7,
      "outputs": [
        {
          "output_type": "execute_result",
          "data": {
            "text/plain": [
              "['No, Dustin “Screech” Diamond Was Not Killed in a Prison Riot',\n",
              " 'How Did Hunter Biden’s Laptop Allegedly Go from a Repair Shop in Delaware to the New York Post?',\n",
              " 'Do Cats Sit on Laptops To Be Closer to You?',\n",
              " 'Did Joe Biden Lie About a Drunken Driver’s Killing His Wife?',\n",
              " 'Did Amy Coney Barrett Say ‘Being Called the N-Word Does Not Constitute a Hostile Work Environment’?',\n",
              " 'Did Kamala Harris Have an Extramarital Affair with Willie Brown That Boosted Her Career?',\n",
              " 'Was ‘Stalking’ Mountain Lion Actually Protecting Her Cubs?',\n",
              " 'Is This a Photograph of Joe Biden’s House?',\n",
              " 'Did ‘Fox and Friends’ Call Fred Rogers an ‘Evil, Evil Man’?',\n",
              " 'Did Joe Biden Say He Didn’t Want His Kids Growing Up in a ‘Racial Jungle’?',\n",
              " 'Did Biden Teach Constitutional Law for 21 Years?',\n",
              " 'Was Trump’s Regeneron ‘Cure’ Developed Using Stem Cells and Fetal Tissues?',\n",
              " 'Did CDC Report ‘Majority’ of People Who Contracted COVID-19 Wore Masks?',\n",
              " 'The Republican Senate Report on Hunter Biden, Explained',\n",
              " 'Can Poll Workers Invalidate Ballots by Writing on Them?',\n",
              " 'How To ‘Weaponize’ Misleading Narratives About Voting: Lessons from Trump-Linked PILF Playbook',\n",
              " 'Did California Republicans Set Up Fake Ballot Drop Boxes?',\n",
              " 'Did the Taliban Endorse Trump While Scientific Community Endorsed Biden?',\n",
              " 'Is Biden Proposing ‘Biggest’ Tax Increase in US History?',\n",
              " 'Bleached Halloween Pumpkin Post Sparks Vitriolic, Misinformed Backlash',\n",
              " 'Did Trump Share ‘Biden for Resident’ Meme?',\n",
              " 'Did Pelosi Call For Votes To Be Removed From U.S. Troops Overseas?',\n",
              " 'Did Twitter Shut Down its Network to Slow the Spread of Negative Biden News?',\n",
              " 'Did a Fly Land on Amy Coney Barrett?',\n",
              " 'Did Senator Richard Blumenthal Misrepresent His Military Service?',\n",
              " 'Did Kamala Harris Prosecute Journalists Who Exposed Planned Parenthood?',\n",
              " 'Did Trump Pay $35M to Settle Child Rape Claims Against Him?',\n",
              " '‘He Spent Their Blood Like Currency’: Trump Promotes Falconer’s Bizarre Anti-Biden Conspiracy Theory',\n",
              " 'Was Hunter Biden Dishonorably Discharged from the Navy?',\n",
              " 'Did Pelosi Divert Billions from Social Security to Cover Impeachment Costs?',\n",
              " 'Did Proud Boys Change Name to ‘Leather Men’?',\n",
              " 'Is a Testicular Blow Exponentially More Painful Than Childbirth?',\n",
              " 'Lawsuit Charges Donald Trump with Raping a 13-Year-Old Girl',\n",
              " 'Did Ice Cube Help Trump Create Plan for Black Americans?',\n",
              " 'Did U.S. Rep. Ilhan Omar Marry Her Brother?',\n",
              " 'Donald Trump Criticized for Mocking Disabled Reporter',\n",
              " 'Did US Unemployment Reach Record Low Due to Trump?',\n",
              " 'Did Kamala Harris Call American Churches ‘Propaganda Centers’?',\n",
              " 'Did LBJ Say ‘I’ll Have Those N*****s Voting Democratic for 200 Years’?',\n",
              " 'Background Check: Investigating George Floyd’s Criminal Record',\n",
              " 'Did Kamala Harris Support Abortion Until the Time of Giving Birth?',\n",
              " 'Did a Plane Disappear and Land 37 Years Later?',\n",
              " 'Qurious About QAnon? Get the Facts About This Dangerous Conspiracy Theory',\n",
              " 'Was a Nurse Who Spoke at the GOP Convention Charged With Shooting a Woman?',\n",
              " 'Did Trump Fail To Denounce QAnon Conspiracy Theories?',\n",
              " 'Did Hunter Biden Divorce His Wife for His Deceased Brother’s Widow?',\n",
              " 'Did Alex Smith Die at Age 26 Because He Couldn’t Afford Insulin?',\n",
              " 'Did New York Reprimand Trump Family for ‘Stealing from a Children’s Cancer Charity’?',\n",
              " 'Was Dustin Diamond Charged with Murder After a Stabbing Victim Died?',\n",
              " 'No, Dustin “Screech” Diamond Was Not Killed in a Prison Riot',\n",
              " 'How Did Hunter Biden’s Laptop Allegedly Go from a Repair Shop in Delaware to the New York Post?',\n",
              " 'Did Amy Coney Barrett Say ‘Being Called the N-Word Does Not Constitute a Hostile Work Environment’?',\n",
              " 'Did Kamala Harris Have an Extramarital Affair with Willie Brown That Boosted Her Career?',\n",
              " 'Did California Republicans Set Up Fake Ballot Drop Boxes?']"
            ]
          },
          "metadata": {
            "tags": []
          },
          "execution_count": 7
        }
      ]
    }
  ]
}